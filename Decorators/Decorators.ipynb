{
 "cells": [
  {
   "cell_type": "code",
   "execution_count": null,
   "metadata": {},
   "outputs": [],
   "source": [
    "#decorators allow you to extend and modify a function\n",
    "#usful for when you want to time fucntion or run diagnostics ect."
   ]
  },
  {
   "cell_type": "code",
   "execution_count": 4,
   "metadata": {},
   "outputs": [
    {
     "name": "stdout",
     "output_type": "stream",
     "text": [
      "Start\n",
      "Middle\n",
      "End\n"
     ]
    }
   ],
   "source": [
    "#define a decorator function that accepts the function\n",
    "\n",
    "def decorator(func):\n",
    "    print('Start')\n",
    "    func()\n",
    "    print('End')\n",
    "\n",
    "@decorator\n",
    "def printfunc():\n",
    "    print(\"Middle\")\n",
    "\n",
    "#when called with the at symbol it executes the functions immidiately"
   ]
  },
  {
   "cell_type": "code",
   "execution_count": 8,
   "metadata": {},
   "outputs": [
    {
     "name": "stdout",
     "output_type": "stream",
     "text": [
      "Start\n",
      "End\n",
      "8\n"
     ]
    }
   ],
   "source": [
    "#decorators with arguments\n",
    "\n",
    "def start_end_decorator(func):\n",
    "    def wrapper(*args,**kwargs):\n",
    "        print(\"Start\")\n",
    "        result = func(*args,**kwargs)\n",
    "        print('End')\n",
    "        return result\n",
    "    return wrapper\n",
    "\n",
    "@start_end_decorator\n",
    "def add5(x):\n",
    "    return x+5\n",
    "\n",
    "print(add5(3))"
   ]
  },
  {
   "cell_type": "code",
   "execution_count": 14,
   "metadata": {},
   "outputs": [
    {
     "name": "stdout",
     "output_type": "stream",
     "text": [
      "Hello Frans\n",
      "Hello Frans\n",
      "Hello Frans\n"
     ]
    }
   ],
   "source": [
    "#where the decorator has an argument\n",
    "\n",
    "def repeat(num_times):\n",
    "    def deco_repeat(func):\n",
    "        def inside(*args,**kwargs):\n",
    "            for _ in range(num_times):\n",
    "                result = func(*args,**kwargs)\n",
    "            return result\n",
    "        return inside\n",
    "    return deco_repeat\n",
    "\n",
    "@repeat(num_times=3)\n",
    "def printname(x):\n",
    "    print(f'Hello {x}')\n",
    "\n",
    "printname('Frans')"
   ]
  },
  {
   "cell_type": "code",
   "execution_count": 16,
   "metadata": {},
   "outputs": [
    {
     "name": "stdout",
     "output_type": "stream",
     "text": [
      "12\n",
      "12\n",
      "12\n",
      "None\n"
     ]
    }
   ],
   "source": [
    "@repeat(num_times=3)\n",
    "def add10(x):\n",
    "    print(x+10)\n",
    "\n",
    "print(add10(2))"
   ]
  }
 ],
 "metadata": {
  "kernelspec": {
   "display_name": "Python 3.9.7 64-bit",
   "language": "python",
   "name": "python3"
  },
  "language_info": {
   "codemirror_mode": {
    "name": "ipython",
    "version": 3
   },
   "file_extension": ".py",
   "mimetype": "text/x-python",
   "name": "python",
   "nbconvert_exporter": "python",
   "pygments_lexer": "ipython3",
   "version": "3.9.7"
  },
  "orig_nbformat": 4,
  "vscode": {
   "interpreter": {
    "hash": "e17eab0df9e3307548a5c6f41d73e01b4dc6a359441bcee24f0d97b016c3af62"
   }
  }
 },
 "nbformat": 4,
 "nbformat_minor": 2
}
