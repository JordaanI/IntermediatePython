{
 "cells": [
  {
   "cell_type": "code",
   "execution_count": 3,
   "metadata": {},
   "outputs": [
    {
     "name": "stdout",
     "output_type": "stream",
     "text": [
      "Counter({'d': 4, 'c': 3, 'b': 2, 'a': 1})\n",
      "[('d', 4)]\n",
      "[('d', 4), ('c', 3)]\n"
     ]
    }
   ],
   "source": [
    "#containers with more functionality\n",
    "from collections import Counter\n",
    "\n",
    "mycounter = Counter('abbcccdddd')\n",
    "print(mycounter) #returns dict with unique elements as keys and the number of elemets as the value\n",
    "#mycounter is now just a dict that can be manipulateed as such\n",
    "print(mycounter.most_common(1)) # first most common element\n",
    "print(mycounter.most_common(2)) # 2 most common element, returns it as a list and can be sliced as such. Returns the key value pairs as tuples"
   ]
  },
  {
   "cell_type": "code",
   "execution_count": 6,
   "metadata": {},
   "outputs": [
    {
     "name": "stdout",
     "output_type": "stream",
     "text": [
      "['a', 'b', 'b', 'c', 'c', 'c', 'd', 'd', 'd', 'd']\n",
      "a\n",
      "b\n",
      "b\n",
      "c\n",
      "c\n",
      "c\n",
      "d\n",
      "d\n",
      "d\n",
      "d\n",
      "648\n"
     ]
    }
   ],
   "source": [
    "#iterating a counter\n",
    "print(list(mycounter.elements())) #creates an iterable like range that can be used in the same way\n",
    "for element in mycounter.elements():\n",
    "    print(element)\n",
    "#can also be created in another way\n",
    "mycounter = Counter({1:2,2:3,3:4}) #st there is 2 ones, 3 twos and 4 threes.\n",
    "product = 1\n",
    "for element in mycounter.elements():\n",
    "    product *= element\n",
    "print(product)"
   ]
  },
  {
   "cell_type": "code",
   "execution_count": null,
   "metadata": {},
   "outputs": [],
   "source": [
    "#namedtuple\n",
    "from collections import namedtuple"
   ]
  }
 ],
 "metadata": {
  "kernelspec": {
   "display_name": "Python 3.9.7 64-bit",
   "language": "python",
   "name": "python3"
  },
  "language_info": {
   "codemirror_mode": {
    "name": "ipython",
    "version": 3
   },
   "file_extension": ".py",
   "mimetype": "text/x-python",
   "name": "python",
   "nbconvert_exporter": "python",
   "pygments_lexer": "ipython3",
   "version": "3.9.7"
  },
  "orig_nbformat": 4,
  "vscode": {
   "interpreter": {
    "hash": "e17eab0df9e3307548a5c6f41d73e01b4dc6a359441bcee24f0d97b016c3af62"
   }
  }
 },
 "nbformat": 4,
 "nbformat_minor": 2
}
