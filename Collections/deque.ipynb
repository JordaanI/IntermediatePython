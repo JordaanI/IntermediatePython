{
 "cells": [
  {
   "cell_type": "code",
   "execution_count": 2,
   "metadata": {},
   "outputs": [
    {
     "name": "stdout",
     "output_type": "stream",
     "text": [
      "deque([1, 2])\n",
      "deque([1, 2, 3, 4])\n",
      "deque([6, 5, 1, 2, 3, 4])\n"
     ]
    }
   ],
   "source": [
    "#a doubl ended queue where you can add/remove items from the start or end\n",
    "from collections import deque\n",
    "d= deque()\n",
    "d.append(2)\n",
    "d.appendleft(1)\n",
    "print(d)\n",
    "# has methods of pop for last removal and popleft for first removal, extend can add a list to theend or visavers extend left\n",
    "d.extend([3,4])\n",
    "print(d)\n",
    "d.extendleft([5,6])\n",
    "print(d)\n",
    "#note how the entries is mirrored\n",
    "#the rotate and rotate left changes the position of the values by the specifiec argument in the appropriate direction"
   ]
  }
 ],
 "metadata": {
  "kernelspec": {
   "display_name": "Python 3.9.7 64-bit",
   "language": "python",
   "name": "python3"
  },
  "language_info": {
   "codemirror_mode": {
    "name": "ipython",
    "version": 3
   },
   "file_extension": ".py",
   "mimetype": "text/x-python",
   "name": "python",
   "nbconvert_exporter": "python",
   "pygments_lexer": "ipython3",
   "version": "3.9.7"
  },
  "orig_nbformat": 4,
  "vscode": {
   "interpreter": {
    "hash": "e17eab0df9e3307548a5c6f41d73e01b4dc6a359441bcee24f0d97b016c3af62"
   }
  }
 },
 "nbformat": 4,
 "nbformat_minor": 2
}
