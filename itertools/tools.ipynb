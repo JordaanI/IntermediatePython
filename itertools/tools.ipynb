{
 "cells": [
  {
   "cell_type": "markdown",
   "metadata": {},
   "source": [
    "All these are iterable and can be used in loops, can simplify some steps in data prep."
   ]
  },
  {
   "cell_type": "code",
   "execution_count": 1,
   "metadata": {},
   "outputs": [
    {
     "name": "stdout",
     "output_type": "stream",
     "text": [
      "<itertools.product object at 0x00000221D905A200> [(1, 3), (1, 4), (2, 3), (2, 4)]\n"
     ]
    }
   ],
   "source": [
    "#product\n",
    "from itertools import product\n",
    "\n",
    "a= [1,2]\n",
    "b = [3,4]\n",
    "\n",
    "prod = product(a,b)\n",
    "#computes cartesian product of a and b\n",
    "print(prod, list(prod))\n",
    "#alist of tuples of the combinations of a and b, has a functionality repeat that seems less useful"
   ]
  },
  {
   "cell_type": "code",
   "execution_count": 4,
   "metadata": {},
   "outputs": [
    {
     "name": "stdout",
     "output_type": "stream",
     "text": [
      "[(1, 2, 3), (1, 3, 2), (2, 1, 3), (2, 3, 1), (3, 1, 2), (3, 2, 1)]\n",
      "[(1, 2), (1, 3), (2, 1), (2, 3), (3, 1), (3, 2)]\n"
     ]
    }
   ],
   "source": [
    "from itertools import permutations\n",
    "#returns all permutations\n",
    "a = [1,2,3]\n",
    "perm = permutations(a)\n",
    "print(list(perm))\n",
    "print(list(permutations(a,2))) #second arguement specifies lengths of permutations"
   ]
  },
  {
   "cell_type": "code",
   "execution_count": 8,
   "metadata": {},
   "outputs": [
    {
     "name": "stdout",
     "output_type": "stream",
     "text": [
      "[(0, 1), (0, 2), (0, 3), (1, 2), (1, 3), (2, 3)]\n",
      "[(0, 0), (0, 1), (0, 2), (0, 3), (1, 1), (1, 2), (1, 3), (2, 2), (2, 3), (3, 3)]\n"
     ]
    }
   ],
   "source": [
    "from itertools import combinations\n",
    "#find all combinations with a specified length\n",
    "a = range(4)\n",
    "comb = combinations(a,2) # second arguement is mandatory\n",
    "print(list(comb))#combinations are not repeated\n",
    "from itertools import combinations_with_replacement\n",
    "comb_wr = combinations_with_replacement(a,2)\n",
    "print(list(comb_wr))"
   ]
  },
  {
   "cell_type": "code",
   "execution_count": 11,
   "metadata": {},
   "outputs": [
    {
     "name": "stdout",
     "output_type": "stream",
     "text": [
      "[1, 3, 6, 10]\n",
      "[1, 2, 6, 24]\n"
     ]
    }
   ],
   "source": [
    "from itertools import accumulate\n",
    "a = range(1,5)\n",
    "acc = accumulate(a) #sum each element with the previous\n",
    "print(list(acc))\n",
    "# can specify other operators\n",
    "import operator\n",
    "acc = accumulate(a , func=operator.mul) #will multiply each one\n",
    "print(list(acc))\n",
    "#the func max returns the max between the two seq elements\n"
   ]
  },
  {
   "cell_type": "code",
   "execution_count": 14,
   "metadata": {},
   "outputs": [
    {
     "name": "stdout",
     "output_type": "stream",
     "text": [
      "<itertools.groupby object at 0x00000221D9D1F5E0>\n",
      "True [1, 2]\n",
      "False [3, 4]\n"
     ]
    }
   ],
   "source": [
    "from itertools import groupby\n",
    "#returns keys and groups from an iterable\n",
    "\n",
    "def samller_than_3(x):\n",
    "    return x < 3\n",
    "\n",
    "# can either use a defined function or a lambda function\n",
    "\n",
    "a = range(1,5)\n",
    "group_obj = groupby(a, key=samller_than_3)\n",
    "print(group_obj)\n",
    "for key, value in group_obj:\n",
    "    print(key, list(value))\n",
    "#they are grouped by the boolean key with a list of values that fall under those keys,"
   ]
  },
  {
   "cell_type": "code",
   "execution_count": null,
   "metadata": {},
   "outputs": [],
   "source": [
    "from itertools import count, cycle, repeat\n",
    "#the count functions start at the argument and causes an infinite count loop\n",
    "#the cycle function cycles infinitely through an interable\n",
    "#the repeat method repeats an arguemnt either infinitely or till told to stop"
   ]
  }
 ],
 "metadata": {
  "kernelspec": {
   "display_name": "Python 3.9.7 64-bit",
   "language": "python",
   "name": "python3"
  },
  "language_info": {
   "codemirror_mode": {
    "name": "ipython",
    "version": 3
   },
   "file_extension": ".py",
   "mimetype": "text/x-python",
   "name": "python",
   "nbconvert_exporter": "python",
   "pygments_lexer": "ipython3",
   "version": "3.9.7"
  },
  "orig_nbformat": 4,
  "vscode": {
   "interpreter": {
    "hash": "e17eab0df9e3307548a5c6f41d73e01b4dc6a359441bcee24f0d97b016c3af62"
   }
  }
 },
 "nbformat": 4,
 "nbformat_minor": 2
}
