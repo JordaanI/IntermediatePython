{
 "cells": [
  {
   "cell_type": "code",
   "execution_count": null,
   "metadata": {},
   "outputs": [],
   "source": [
    "#threads can share data with each other since theyre in the same memory space.\n",
    "\n",
    "#a counter to 5 with multiple threads"
   ]
  },
  {
   "cell_type": "code",
   "execution_count": 1,
   "metadata": {},
   "outputs": [
    {
     "name": "stdout",
     "output_type": "stream",
     "text": [
      "1\n"
     ]
    }
   ],
   "source": [
    "from threading import Thread\n",
    "import time\n",
    "\n",
    "database_value = 0\n",
    "\n",
    "def increase():\n",
    "    \n",
    "    #variable creation and assignment\n",
    "    global database_value       #Accesess the global variable database_value\n",
    "    local_value = database_value\n",
    "\n",
    "    #processing\n",
    "    local_value += 1\n",
    "    time.sleep(0.1)\n",
    "\n",
    "    #variable updating\n",
    "    database_value = local_value\n",
    "\n",
    "#create the threads, tel them what job to do\n",
    "thread1 = Thread(target=increase)\n",
    "thread2 = Thread(target=increase)\n",
    "thread3 = Thread(target=increase)\n",
    "thread4 = Thread(target=increase)\n",
    "thread5 = Thread(target=increase)\n",
    "\n",
    "thread1.start()\n",
    "thread2.start()\n",
    "thread3.start()\n",
    "thread4.start()\n",
    "thread5.start()\n",
    "\n",
    "thread1.join()\n",
    "thread2.join()\n",
    "thread3.join()\n",
    "thread4.join()\n",
    "thread5.join()\n",
    "\n",
    "print(database_value)"
   ]
  },
  {
   "cell_type": "markdown",
   "metadata": {},
   "source": [
    "In this case the threads are running in the downtime of the other threads and so the threads cant update fast enough to change the value. We need to lock the computation until one thread is finished running."
   ]
  },
  {
   "cell_type": "code",
   "execution_count": 2,
   "metadata": {},
   "outputs": [
    {
     "name": "stdout",
     "output_type": "stream",
     "text": [
      "5\n"
     ]
    }
   ],
   "source": [
    "from threading import Thread, Lock\n",
    "import time\n",
    "\n",
    "database_value = 0\n",
    "\n",
    "#call the lock function, it works in pairs of acquire and release that locks a thread and does not allow another thread to acess the function until released.\n",
    "lock = Lock()\n",
    "\n",
    "def increase(lock):\n",
    "    \n",
    "    lock.acquire()\n",
    "    #variable creation and assignment\n",
    "    global database_value\n",
    "    local_value = database_value\n",
    "\n",
    "    #processing\n",
    "    local_value += 1\n",
    "    time.sleep(0.2)\n",
    "\n",
    "    #variable updating\n",
    "    database_value = local_value\n",
    "    lock.release()\n",
    "\n",
    "#using \"with lock\" the acquire and release method is not needed and is sometimes better.\n",
    "\n",
    "#create the threads, tel them what job to do. here we also have to specify the args used, in this case the lock, needs to be a tuple\n",
    "thread1 = Thread(target=increase, args=(lock,))\n",
    "thread2 = Thread(target=increase, args=(lock,))\n",
    "thread3 = Thread(target=increase, args=(lock,))\n",
    "thread4 = Thread(target=increase, args=(lock,))\n",
    "thread5 = Thread(target=increase, args=(lock,))\n",
    "\n",
    "thread1.start()\n",
    "thread2.start()\n",
    "thread3.start()\n",
    "thread4.start()\n",
    "thread5.start()\n",
    "\n",
    "thread1.join()\n",
    "thread2.join()\n",
    "thread3.join()\n",
    "thread4.join()\n",
    "thread5.join()\n",
    "\n",
    "print(database_value)"
   ]
  },
  {
   "cell_type": "markdown",
   "metadata": {},
   "source": [
    "Multi threading is used when you want to execute a large amount of code that doesnt have to run line by line. When there is downtime the programm will automatically start the next thread and finish threads as theyre started to increase the speed of execution of that program\n"
   ]
  }
 ],
 "metadata": {
  "kernelspec": {
   "display_name": "Python 3.9.7 64-bit",
   "language": "python",
   "name": "python3"
  },
  "language_info": {
   "codemirror_mode": {
    "name": "ipython",
    "version": 3
   },
   "file_extension": ".py",
   "mimetype": "text/x-python",
   "name": "python",
   "nbconvert_exporter": "python",
   "pygments_lexer": "ipython3",
   "version": "3.9.7"
  },
  "orig_nbformat": 4,
  "vscode": {
   "interpreter": {
    "hash": "e17eab0df9e3307548a5c6f41d73e01b4dc6a359441bcee24f0d97b016c3af62"
   }
  }
 },
 "nbformat": 4,
 "nbformat_minor": 2
}
