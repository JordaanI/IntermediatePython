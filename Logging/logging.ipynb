{
 "cells": [
  {
   "cell_type": "code",
   "execution_count": 1,
   "metadata": {},
   "outputs": [
    {
     "name": "stderr",
     "output_type": "stream",
     "text": [
      "WARNING:root:This is a waring message\n",
      "ERROR:root:This is an error message\n",
      "CRITICAL:root:This is a critical message\n"
     ]
    }
   ],
   "source": [
    "import logging\n",
    "logging.info('This is an info message')\n",
    "logging.debug('This is a debug message')\n",
    "logging.warning('This is a waring message')\n",
    "logging.error('This is an error message')\n",
    "logging.critical('This is a critical message')"
   ]
  },
  {
   "cell_type": "code",
   "execution_count": 1,
   "metadata": {},
   "outputs": [
    {
     "name": "stderr",
     "output_type": "stream",
     "text": [
      "01/08/2022 13:03:36 - root - INFO - This is an info message\n",
      "01/08/2022 13:03:37 - root - DEBUG - This is a debug message\n",
      "01/08/2022 13:03:37 - root - WARNING - This is a waring message\n",
      "01/08/2022 13:03:37 - root - ERROR - This is an error message\n",
      "01/08/2022 13:03:37 - root - CRITICAL - This is a critical message\n"
     ]
    }
   ],
   "source": [
    "#logging config, ususally done when logger is called and configures the system\n",
    "import logging\n",
    "logging.basicConfig(level=logging.DEBUG, format='%(asctime)s - %(name)s - %(levelname)s - %(message)s', datefmt='%d/%m/%Y %H:%M:%S') \n",
    "logging.info('This is an info message')\n",
    "logging.debug('This is a debug message')\n",
    "logging.warning('This is a waring message')\n",
    "logging.error('This is an error message')\n",
    "logging.critical('This is a critical message')\n",
    "#configures the format of the log and which level is logged\n"
   ]
  },
  {
   "cell_type": "code",
   "execution_count": 1,
   "metadata": {},
   "outputs": [
    {
     "name": "stderr",
     "output_type": "stream",
     "text": [
      "01/08/2022 13:13:39 - __main__ - WARNING - Warning\n",
      "01/08/2022 13:13:39 - __main__ - ERROR - ërror\n"
     ]
    }
   ],
   "source": [
    "#by default calls the root logger but you really want to call a logger for this module and is done by setting the name of the logger to the name of this module\n",
    "import logging\n",
    "\n",
    "logger = logging.getLogger(__name__) #Calls a logger for this module. This way if you import other modules and they log events you know which module logged the event\n",
    "#you xcan also se the propogation to false to not allow this.\n",
    "\n",
    "#handlers send the logging to where ever its needed, i.e writes it to a file, sends an email to something ect.\n",
    "\n",
    "#create handler\n",
    "stream_h = logging.StreamHandler() #logs to a stream/console\n",
    "file_h = logging.FileHandler('file.log')\n",
    "\n",
    "#set level and format - The set level means that logs that are less servere will be removed. Allows for multiple mandlers to handle diffrent severity levels\n",
    "\n",
    "stream_h.setLevel(logging.WARNING)\n",
    "file_h.setLevel(logging.ERROR)\n",
    "formatter = logging.Formatter('%(asctime)s - %(name)s - %(levelname)s - %(message)s', datefmt='%d/%m/%Y %H:%M:%S')\n",
    "stream_h.setFormatter(formatter)\n",
    "file_h.setFormatter(formatter)\n",
    "\n",
    "# adding handlers to the logger\n",
    "\n",
    "logger.addHandler(stream_h)\n",
    "logger.addHandler(file_h)\n",
    "\n",
    "logger.warning('Warning') #logs to the console or output of the cell\n",
    "logger.error('ërror') #logs to a file, looks like it always log to the output of the cell."
   ]
  },
  {
   "cell_type": "code",
   "execution_count": 1,
   "metadata": {},
   "outputs": [
    {
     "name": "stderr",
     "output_type": "stream",
     "text": [
      "2022-08-01 14:20:42,597 - ExampleLogger - ERROR - This is an error message\n"
     ]
    }
   ],
   "source": [
    "#more configs (file)\n",
    "import logging\n",
    "import logging.config\n",
    "logging.config.fileConfig('logging.conf') #loads config from the ini file.log\n",
    "logger = logging.getLogger('ExampleLogger') #Note the name defined in the logging ini\n",
    "\n",
    "\n",
    "logger.error('This is an error message')\n",
    "#Something on propogtion. if enabled the logger will propogate the log upwards through the hierach and log it again.\n",
    "#Here the example logger had no streamh but the root did so it logged it anyways."
   ]
  },
  {
   "cell_type": "markdown",
   "metadata": {},
   "source": [
    "#rotating fil handlers\n",
    "\n",
    "from logging.handlers import RotatingFileHandler\n",
    "Keeps the files small, the max bites tells the logger when to start a new file. Is useful for large projects with a lot of logging going on.\n",
    "\n",
    "can also work for time using\n",
    "from logging.handlers import TimedRotatingFileHandler\n",
    "adds arguments when and interval which has settings to determine when log files are created."
   ]
  }
 ],
 "metadata": {
  "kernelspec": {
   "display_name": "Python 3.9.7 64-bit",
   "language": "python",
   "name": "python3"
  },
  "language_info": {
   "codemirror_mode": {
    "name": "ipython",
    "version": 3
   },
   "file_extension": ".py",
   "mimetype": "text/x-python",
   "name": "python",
   "nbconvert_exporter": "python",
   "pygments_lexer": "ipython3",
   "version": "3.9.7"
  },
  "orig_nbformat": 4,
  "vscode": {
   "interpreter": {
    "hash": "e17eab0df9e3307548a5c6f41d73e01b4dc6a359441bcee24f0d97b016c3af62"
   }
  }
 },
 "nbformat": 4,
 "nbformat_minor": 2
}
