{
 "cells": [
  {
   "cell_type": "markdown",
   "metadata": {},
   "source": [
    "Psuedo Random numbers that seem random but can be reproduced"
   ]
  },
  {
   "cell_type": "code",
   "execution_count": 3,
   "metadata": {},
   "outputs": [
    {
     "name": "stdout",
     "output_type": "stream",
     "text": [
      "0.41218613215686917\n",
      "4.530376790717684\n",
      "1\n",
      "6\n"
     ]
    }
   ],
   "source": [
    "import random\n",
    "\n",
    "print(random.random()) #generates a rand float between 0 and 1\n",
    "print(random.uniform(1,10))#generates radnom float between two numbers\n",
    "print(random.randint(1,10))#generates random int between two numbers inclusive\n",
    "print(random.randrange(1,10))#generates a int with expected behaviour\n"
   ]
  },
  {
   "cell_type": "code",
   "execution_count": 4,
   "metadata": {},
   "outputs": [
    {
     "name": "stdout",
     "output_type": "stream",
     "text": [
      "-0.6017472697777747\n"
     ]
    }
   ],
   "source": [
    "#Randoms from a distribution\n",
    "print(random.normalvariate(mu=0,sigma=1))"
   ]
  }
 ],
 "metadata": {
  "kernelspec": {
   "display_name": "Python 3.9.7 64-bit",
   "language": "python",
   "name": "python3"
  },
  "language_info": {
   "codemirror_mode": {
    "name": "ipython",
    "version": 3
   },
   "file_extension": ".py",
   "mimetype": "text/x-python",
   "name": "python",
   "nbconvert_exporter": "python",
   "pygments_lexer": "ipython3",
   "version": "3.9.7"
  },
  "orig_nbformat": 4,
  "vscode": {
   "interpreter": {
    "hash": "e17eab0df9e3307548a5c6f41d73e01b4dc6a359441bcee24f0d97b016c3af62"
   }
  }
 },
 "nbformat": 4,
 "nbformat_minor": 2
}
