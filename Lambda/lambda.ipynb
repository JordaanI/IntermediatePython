{
 "cells": [
  {
   "cell_type": "code",
   "execution_count": 2,
   "metadata": {},
   "outputs": [
    {
     "name": "stdout",
     "output_type": "stream",
     "text": [
      "15\n",
      "14\n"
     ]
    }
   ],
   "source": [
    "# lambda arguments: expression\n",
    "#one line function with arguments that evaluates the expression\n",
    "\n",
    "add10 = lambda x: x + 10\n",
    "print(add10(5))\n",
    "\n",
    "#can also have multiple arguments\n",
    "\n",
    "mult = lambda x,y : x*y\n",
    "print(mult(2,7))\n",
    "\n",
    "#typically only for simple functions or for built in functions."
   ]
  },
  {
   "cell_type": "code",
   "execution_count": 9,
   "metadata": {},
   "outputs": [
    {
     "name": "stdout",
     "output_type": "stream",
     "text": [
      "<itertools.product object at 0x0000022190D71740> [(2, -2), (2, 5), (4, -2), (4, 5)]\n",
      "[(2, -2), (4, -2), (2, 5), (4, 5)]\n",
      "[(2, -2), (4, -2), (2, 5), (4, 5)]\n"
     ]
    }
   ],
   "source": [
    "#the sorted method\n",
    "from itertools import product\n",
    "a = [2,4]\n",
    "b = [-2,5]\n",
    "prod = product(a,b)\n",
    "sorted_list = sorted(prod) #sorts by x argument\n",
    "print(prod,sorted_list)\n",
    "#OR\n",
    "prod = product(a,b)\n",
    "sorted_list = sorted(prod, key=lambda x:x[1]) # use a lambda function to sort by a diff value in the tuple\n",
    "print(sorted_list)\n",
    "#another example\n",
    "prod = product(a,b)\n",
    "sorted_list = sorted(prod, key=lambda x:x[0]+x[1])\n",
    "print(sorted_list)"
   ]
  },
  {
   "cell_type": "code",
   "execution_count": 11,
   "metadata": {},
   "outputs": [
    {
     "name": "stdout",
     "output_type": "stream",
     "text": [
      "[2, 4, 6, 8, 10]\n"
     ]
    }
   ],
   "source": [
    "#map function\n",
    "a = range(1,6)\n",
    "b = map(lambda x: x*2, a)\n",
    "print(list(b))\n",
    "#map the function onto an iterable, can also be achieved with list comprehension"
   ]
  },
  {
   "cell_type": "code",
   "execution_count": 13,
   "metadata": {},
   "outputs": [
    {
     "name": "stdout",
     "output_type": "stream",
     "text": [
      "[2, 4, 6]\n"
     ]
    }
   ],
   "source": [
    "#filter function, filter func must return boolean and filter returns all true\n",
    "a = range(1,7)\n",
    "b = filter(lambda x: x%2 == 0, a)\n",
    "print(list(b)) #similarly can also be achieved with list comprehension"
   ]
  },
  {
   "cell_type": "code",
   "execution_count": 15,
   "metadata": {},
   "outputs": [
    {
     "name": "stdout",
     "output_type": "stream",
     "text": [
      "720\n"
     ]
    }
   ],
   "source": [
    "#reduce func, repeatedly apply the function and returns a single value\n",
    "from functools import reduce\n",
    "a = range(1,7)\n",
    "pro_a = reduce(lambda x,y: x*y, a)\n",
    "print(pro_a)"
   ]
  }
 ],
 "metadata": {
  "kernelspec": {
   "display_name": "Python 3.9.7 64-bit",
   "language": "python",
   "name": "python3"
  },
  "language_info": {
   "codemirror_mode": {
    "name": "ipython",
    "version": 3
   },
   "file_extension": ".py",
   "mimetype": "text/x-python",
   "name": "python",
   "nbconvert_exporter": "python",
   "pygments_lexer": "ipython3",
   "version": "3.9.7"
  },
  "orig_nbformat": 4,
  "vscode": {
   "interpreter": {
    "hash": "e17eab0df9e3307548a5c6f41d73e01b4dc6a359441bcee24f0d97b016c3af62"
   }
  }
 },
 "nbformat": 4,
 "nbformat_minor": 2
}
