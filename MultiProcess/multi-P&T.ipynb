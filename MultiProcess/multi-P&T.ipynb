{
 "cells": [
  {
   "cell_type": "markdown",
   "metadata": {},
   "source": [
    "#Intro to multiprocesses and Multithreading\n",
    "\n",
    "Processes (An instance of a program)\n",
    "    memory not not shared between processes\n",
    "    Uses multiplecpu's and cores\n",
    "    processes is interruptable\n",
    "\n",
    "    memory intensive\n",
    "    computationaly heavy\n",
    "\n",
    "Threading (An entity within a process that can be scheduled, can spawn multiple)\n",
    "    share memory\n",
    "    not computationally heavy\n",
    "    limited to one thread at a time\n",
    "    not interuptable\n",
    "    volatile, can cause crashes if two threads change same variable.\n",
    "\n",
    "A process schedules a thread to perform a certain job. when the job is done the thread is \"deleted\" ad the next one spawned\n",
    "\n",
    "Multi-processing is then another set of instructions that needs to be followed on the same machine in the same process\n",
    "Multithreading is then two or more threads working in the same process to complete different instructions simultaniously.  \n",
    "\n",
    "The code is similar"
   ]
  },
  {
   "cell_type": "code",
   "execution_count": 2,
   "metadata": {},
   "outputs": [],
   "source": [
    "#MULTIPROCESSING\n",
    "\n",
    "import os\n",
    "\n",
    "from multiprocessing import Process #To enable multiplrocessing in the same interpreter.\n",
    "\n",
    "### will need some sort of function to run so:\n",
    "def count_ten():\n",
    "    num = 0\n",
    "    while num < 11:\n",
    "        num += 1\n",
    "\n",
    "# a list to store processes\n",
    "processes = []\n",
    "#the number of processes is conventionally the same as the amount of cpu's\n",
    "num_processes = os.cpu_count()\n",
    "\n",
    "\n",
    "#Decide what process we want to do what job\n",
    "for i in range(num_processes):\n",
    "    p = Process(target=count_ten()) #the first of the two arguments is the function or program and the second is the arguments\n",
    "    processes.append(p) \n",
    "\n",
    "#Start all the processes\n",
    "for p in processes:\n",
    "    p.start()\n",
    "\n",
    "#join the processes\n",
    "for p in processes:\n",
    "    p.join()\n",
    "\n",
    "#upon running of the program this process will start multiple pprocess running on the different cpu's. In this case the program is simple but the idea is there."
   ]
  },
  {
   "cell_type": "code",
   "execution_count": 3,
   "metadata": {},
   "outputs": [],
   "source": [
    "#MULTITHREADING\n",
    "\n",
    "from asyncio import threads\n",
    "from threading import Thread\n",
    "\n",
    "threads = []\n",
    "#the number of threads is depedant on the task\n",
    "num_threads = os.cpu_count()\n",
    "\n",
    "\n",
    "#Decide what process we want to do what job\n",
    "for i in range(num_threads):\n",
    "    p = Thread(target=count_ten()) #the first of the two arguments is the function or program and the second is the arguments\n",
    "    threads.append(p) \n",
    "\n",
    "#Start all the threads\n",
    "for p in threads:\n",
    "    p.start()\n",
    "\n",
    "#join the threads, meaning they run one after the other\n",
    "for p in threads:\n",
    "    p.join()\n",
    "\n",
    "#Here each thread starts its own counter, they are not pointing to the same object so they wont crash"
   ]
  }
 ],
 "metadata": {
  "kernelspec": {
   "display_name": "Python 3.9.7 64-bit",
   "language": "python",
   "name": "python3"
  },
  "language_info": {
   "codemirror_mode": {
    "name": "ipython",
    "version": 3
   },
   "file_extension": ".py",
   "mimetype": "text/x-python",
   "name": "python",
   "nbconvert_exporter": "python",
   "pygments_lexer": "ipython3",
   "version": "3.9.7"
  },
  "orig_nbformat": 4,
  "vscode": {
   "interpreter": {
    "hash": "e17eab0df9e3307548a5c6f41d73e01b4dc6a359441bcee24f0d97b016c3af62"
   }
  }
 },
 "nbformat": 4,
 "nbformat_minor": 2
}
